{
 "cells": [
  {
   "cell_type": "code",
   "execution_count": null,
   "id": "60ae235d-4238-4afb-88c5-4136bda9a091",
   "metadata": {},
   "outputs": [],
   "source": [
    "import numpy as np # linear algebra\n",
    "import pandas as pd # data processing, CSV file I/O (e.g. pd.read_csv)\n",
    "import datatable as dt\n",
    "import matplotlib.pyplot as plt\n",
    "import seaborn as sns\n",
    "\n",
    "\n",
    "# merge book information and review data \n",
    "\n",
    "books = dt.fread('/kaggle/input/goodread-books-without-shelves/data_file.csv').to_pandas().set_index('book_id')\n",
    "reviews = dt.fread('/kaggle/input/goodreads-books-reviews-290312/goodreads_train.csv').to_pandas().set_index('book_id')\n",
    "reviews = reviews.dropna(subset=['rating'])\n",
    "\n",
    "\n",
    "reviews_inc_books = reviews.join(books, lsuffix='_caller', rsuffix='_other')\n"
   ]
  },
  {
   "cell_type": "code",
   "execution_count": null,
   "id": "951cbd92-4479-4440-8305-943e662a89f6",
   "metadata": {},
   "outputs": [],
   "source": [
    "import nltk\n",
    "from nltk.sentiment import SentimentIntensityAnalyzer\n",
    "sia = SentimentIntensityAnalyzer()\n",
    "\n",
    "i = 0\n",
    "correct = 0 \n",
    "\n",
    "for index,rev in reviews_inc_books.iterrows():\n",
    "    res = sia.polarity_scores(str(rev['review_text']))\n",
    "\n",
    "    new_rating = int(round(((res['compound'] + 1) / 2) * 5))\n",
    "    \n",
    "    if new_rating == rev['rating']:\n",
    "        correct +=1 \n",
    "    #print(str(new_rating) + \" vs \" + str(rev['rating']))\n",
    "\n",
    "    i += 1\n",
    "    #if i == 100:\n",
    "    #    break\n",
    "\n",
    "        \n",
    "perc = correct / i \n",
    "print(perc)"
   ]
  }
 ],
 "metadata": {
  "kernelspec": {
   "display_name": "Python 3 (ipykernel)",
   "language": "python",
   "name": "python3"
  },
  "language_info": {
   "codemirror_mode": {
    "name": "ipython",
    "version": 3
   },
   "file_extension": ".py",
   "mimetype": "text/x-python",
   "name": "python",
   "nbconvert_exporter": "python",
   "pygments_lexer": "ipython3",
   "version": "3.10.10"
  }
 },
 "nbformat": 4,
 "nbformat_minor": 5
}
